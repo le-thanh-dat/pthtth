{
 "cells": [
  {
   "cell_type": "markdown",
   "metadata": {},
   "source": [
    "ví dụ"
   ]
  },
  {
   "cell_type": "code",
   "execution_count": 2,
   "metadata": {},
   "outputs": [
    {
     "name": "stdout",
     "output_type": "stream",
     "text": [
      "Da chap nhan ket noi tu  ('192.168.160.1', 53736)\n"
     ]
    }
   ],
   "source": [
    "#SimpleServer.py\n",
    "import socket\n",
    "s = socket.socket(socket.AF_INET, socket.SOCK_STREAM)\n",
    "host = socket.gethostname()\n",
    "port = 12344\n",
    "s.bind((host, port))\n",
    "s.listen(5)\n",
    "while True:\n",
    " c, addr = s.accept()\n",
    " print(\"Da chap nhan ket noi tu \", addr)\n",
    " output = \"Cam on ban da ket noi\"\n",
    " c.sendall(output.encode(\"utf-8\"))\n",
    " c.close()"
   ]
  },
  {
   "cell_type": "markdown",
   "metadata": {},
   "source": [
    "bai1"
   ]
  },
  {
   "cell_type": "code",
   "execution_count": 7,
   "metadata": {},
   "outputs": [
    {
     "name": "stdout",
     "output_type": "stream",
     "text": [
      "Server đang lắng nghe trên LAPTOP-0LNS8ACP:12344\n",
      "Đã kết nối với ('192.168.160.1', 54141)\n",
      "Dữ liệu từ client: le thanh dat\n"
     ]
    }
   ],
   "source": [
    "import socket\n",
    "\n",
    "# Địa chỉ và cổng của server\n",
    "server_host = socket.gethostname()  # Địa chỉ IP của máy chạy server\n",
    "server_port = 12344  # Chọn một cổng tùy ý\n",
    "\n",
    "# Tạo socket server\n",
    "server_socket = socket.socket(socket.AF_INET, socket.SOCK_STREAM)\n",
    "\n",
    "# Liên kết socket với địa chỉ và cổng\n",
    "server_socket.bind((server_host, server_port))\n",
    "\n",
    "# Lắng nghe kết nối\n",
    "server_socket.listen(1)\n",
    "print(f\"Server đang lắng nghe trên {server_host}:{server_port}\")\n",
    "\n",
    "# Chấp nhận kết nối từ client\n",
    "client_socket, client_address = server_socket.accept()\n",
    "print(f\"Đã kết nối với {client_address}\")\n",
    "\n",
    "# Nhận dữ liệu từ client và gửi lại\n",
    "data_from_client = client_socket.recv(1024).decode('utf-8')\n",
    "print(f\"Dữ liệu từ client: {data_from_client}\")\n",
    "\n",
    "# Chuyển đổi chuỗi và gửi lại cho client\n",
    "\n",
    "client_socket.send(data_from_client.encode('utf-8'))\n",
    "\n",
    "# Đóng kết nối\n",
    "client_socket.close()\n",
    "server_socket.close()\n"
   ]
  },
  {
   "cell_type": "markdown",
   "metadata": {},
   "source": [
    "bai 2:"
   ]
  },
  {
   "cell_type": "code",
   "execution_count": 6,
   "metadata": {},
   "outputs": [
    {
     "name": "stdout",
     "output_type": "stream",
     "text": [
      "Server đang lắng nghe trên LAPTOP-0LNS8ACP:12345\n",
      "Đã kết nối với ('192.168.160.1', 54119)\n",
      "Dữ liệu từ client: le thanh dat\n"
     ]
    }
   ],
   "source": [
    "import socket\n",
    "\n",
    "# Địa chỉ và cổng của server\n",
    "server_host = socket.gethostname()  # Địa chỉ IP của máy chạy server\n",
    "server_port = 12345  # Chọn một cổng tùy ý\n",
    "\n",
    "# Tạo socket server\n",
    "server_socket = socket.socket(socket.AF_INET, socket.SOCK_STREAM)\n",
    "\n",
    "# Liên kết socket với địa chỉ và cổng\n",
    "server_socket.bind((server_host, server_port))\n",
    "\n",
    "# Lắng nghe kết nối\n",
    "server_socket.listen(1)\n",
    "print(f\"Server đang lắng nghe trên {server_host}:{server_port}\")\n",
    "\n",
    "# Chấp nhận kết nối từ client\n",
    "client_socket, client_address = server_socket.accept()\n",
    "print(f\"Đã kết nối với {client_address}\")\n",
    "\n",
    "# Nhận dữ liệu từ client\n",
    "data_from_client = client_socket.recv(1024).decode('utf-8')\n",
    "print(f\"Dữ liệu từ client: {data_from_client}\")\n",
    "\n",
    "# Chuyển đổi chuỗi thành chữ hoa và gửi lại cho client\n",
    "response_data = data_from_client.upper()\n",
    "client_socket.send(response_data.encode('utf-8'))\n",
    "\n",
    "# Đóng kết nối\n",
    "client_socket.close()\n",
    "server_socket.close()\n"
   ]
  }
 ],
 "metadata": {
  "kernelspec": {
   "display_name": "Python 3",
   "language": "python",
   "name": "python3"
  },
  "language_info": {
   "codemirror_mode": {
    "name": "ipython",
    "version": 3
   },
   "file_extension": ".py",
   "mimetype": "text/x-python",
   "name": "python",
   "nbconvert_exporter": "python",
   "pygments_lexer": "ipython3",
   "version": "3.10.11"
  },
  "orig_nbformat": 4
 },
 "nbformat": 4,
 "nbformat_minor": 2
}
