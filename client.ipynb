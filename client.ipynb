{
 "cells": [
  {
   "cell_type": "markdown",
   "metadata": {},
   "source": [
    "ví dụ"
   ]
  },
  {
   "cell_type": "code",
   "execution_count": 1,
   "metadata": {},
   "outputs": [
    {
     "name": "stdout",
     "output_type": "stream",
     "text": [
      "b'Cam on ban da ket noi'\n"
     ]
    }
   ],
   "source": [
    "\n",
    "##SimpleClient\n",
    "import socket\n",
    "s = socket.socket(socket.AF_INET, socket.SOCK_STREAM)\n",
    "host = socket.gethostname()\n",
    "port = 12344\n",
    "s.connect((host, port))\n",
    "print(s.recv(1024))\n",
    "s.close()\n"
   ]
  },
  {
   "cell_type": "markdown",
   "metadata": {},
   "source": [
    "bai1"
   ]
  },
  {
   "cell_type": "code",
   "execution_count": 8,
   "metadata": {},
   "outputs": [
    {
     "name": "stdout",
     "output_type": "stream",
     "text": [
      "Đã kết nối tới LAPTOP-0LNS8ACP:12344\n"
     ]
    },
    {
     "name": "stdout",
     "output_type": "stream",
     "text": [
      "Dữ liệu từ server: le thanh dat\n"
     ]
    }
   ],
   "source": [
    "import socket\n",
    "\n",
    "# Địa chỉ và cổng của server\n",
    "server_host = socket.gethostname()  # Địa chỉ IP của máy chạy server\n",
    "server_port = 12344  # Chọn cùng cổng với server\n",
    "\n",
    "# Tạo socket client\n",
    "client_socket = socket.socket(socket.AF_INET, socket.SOCK_STREAM)\n",
    "\n",
    "# Kết nối tới server\n",
    "client_socket.connect((server_host, server_port))\n",
    "print(f\"Đã kết nối tới {server_host}:{server_port}\")\n",
    "\n",
    "# Nhập chuỗi từ người dùng\n",
    "data_to_server = input(\"Nhập chuỗi để gửi tới server: \")\n",
    "\n",
    "# Gửi dữ liệu tới server\n",
    "client_socket.send(data_to_server.encode('utf-8'))\n",
    "\n",
    "# Nhận dữ liệu từ server\n",
    "data_from_server = client_socket.recv(1024).decode('utf-8')\n",
    "print(f\"Dữ liệu từ server: {data_from_server}\")\n",
    "\n",
    "# Đóng kết nối\n",
    "client_socket.close()\n"
   ]
  },
  {
   "cell_type": "markdown",
   "metadata": {},
   "source": [
    "bai2"
   ]
  },
  {
   "cell_type": "code",
   "execution_count": 7,
   "metadata": {},
   "outputs": [
    {
     "name": "stdout",
     "output_type": "stream",
     "text": [
      "Đã kết nối tới LAPTOP-0LNS8ACP:12345\n",
      "Dữ liệu từ server: LE THANH DAT\n"
     ]
    }
   ],
   "source": [
    "import socket\n",
    "\n",
    "# Địa chỉ và cổng của server\n",
    "server_host = socket.gethostname()  # Địa chỉ IP của máy chạy server\n",
    "server_port = 12345  # Chọn cùng cổng với server\n",
    "\n",
    "# Tạo socket client\n",
    "client_socket = socket.socket(socket.AF_INET, socket.SOCK_STREAM)\n",
    "\n",
    "# Kết nối tới server\n",
    "client_socket.connect((server_host, server_port))\n",
    "print(f\"Đã kết nối tới {server_host}:{server_port}\")\n",
    "\n",
    "# Nhập chuỗi từ người dùng\n",
    "data_to_server = input(\"Nhập chuỗi để gửi tới server: \")\n",
    "\n",
    "# Gửi dữ liệu tới server\n",
    "client_socket.send(data_to_server.encode('utf-8'))\n",
    "\n",
    "# Nhận dữ liệu từ server\n",
    "data_from_server = client_socket.recv(1024).decode('utf-8')\n",
    "print(f\"Dữ liệu từ server: {data_from_server}\")\n",
    "\n",
    "# Đóng kết nối\n",
    "client_socket.close()\n"
   ]
  }
 ],
 "metadata": {
  "kernelspec": {
   "display_name": "Python 3",
   "language": "python",
   "name": "python3"
  },
  "language_info": {
   "codemirror_mode": {
    "name": "ipython",
    "version": 3
   },
   "file_extension": ".py",
   "mimetype": "text/x-python",
   "name": "python",
   "nbconvert_exporter": "python",
   "pygments_lexer": "ipython3",
   "version": "3.10.11"
  },
  "orig_nbformat": 4
 },
 "nbformat": 4,
 "nbformat_minor": 2
}
