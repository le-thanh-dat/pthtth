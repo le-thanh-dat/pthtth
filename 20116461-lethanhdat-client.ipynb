{
 "cells": [
  {
   "cell_type": "markdown",
   "metadata": {},
   "source": [
    "Client: \n",
    "\n",
    "Kết nối tới server qua địa chỉ IP và port được cung cấp \n",
    "\n",
    "Client chọn dịch vụ. \n",
    "\n",
    "Dịch vụ 1: Client nhập chuỗi. Hiển thị kết quả đảo ngược và in hoa ký tự đầu. \n",
    "\n",
    "Dịch vụ 2: Client nhập chuỗi các số nguyên. Hiển thị kết quả tính tổng các số nguyên. \n",
    "\n",
    "Kiểm tra ngắt kết nối."
   ]
  },
  {
   "cell_type": "code",
   "execution_count": 16,
   "metadata": {},
   "outputs": [
    {
     "name": "stdout",
     "output_type": "stream",
     "text": [
      "Danh sách dịch vụ:\n",
      "1. Đảo ngược chuỗi đồng thời in hoa ký tự đầu của mỗi từ\n",
      "2. Tính tổng chuỗi các số nguyên (khoảng trắng)\n",
      "3. Thoát\n",
      "Nhập chuỗi số nguyên: \n",
      "10\n",
      "Danh sách dịch vụ:\n",
      "1. Đảo ngược chuỗi đồng thời in hoa ký tự đầu của mỗi từ\n",
      "2. Tính tổng chuỗi các số nguyên (khoảng trắng)\n",
      "3. Thoát\n"
     ]
    },
    {
     "ename": "OSError",
     "evalue": "[WinError 10038] An operation was attempted on something that is not a socket",
     "output_type": "error",
     "traceback": [
      "\u001b[1;31m---------------------------------------------------------------------------\u001b[0m",
      "\u001b[1;31mOSError\u001b[0m                                   Traceback (most recent call last)",
      "\u001b[1;32md:\\HK1-2023-2024\\phat trien he thong tich hop\\ptthth\\client.ipynb Cell 2\u001b[0m line \u001b[0;36m4\n\u001b[0;32m     <a href='vscode-notebook-cell:/d%3A/HK1-2023-2024/phat%20trien%20he%20thong%20tich%20hop/ptthth/client.ipynb#X10sZmlsZQ%3D%3D?line=39'>40</a>\u001b[0m             \u001b[39mprint\u001b[39m(\u001b[39m\"\u001b[39m\u001b[39mLựa chọn không hợp lệ. Vui lòng chọn lại.\u001b[39m\u001b[39m\"\u001b[39m)\n\u001b[0;32m     <a href='vscode-notebook-cell:/d%3A/HK1-2023-2024/phat%20trien%20he%20thong%20tich%20hop/ptthth/client.ipynb#X10sZmlsZQ%3D%3D?line=41'>42</a>\u001b[0m \u001b[39mif\u001b[39;00m \u001b[39m__name__\u001b[39m \u001b[39m==\u001b[39m \u001b[39m\"\u001b[39m\u001b[39m__main__\u001b[39m\u001b[39m\"\u001b[39m:\n\u001b[1;32m---> <a href='vscode-notebook-cell:/d%3A/HK1-2023-2024/phat%20trien%20he%20thong%20tich%20hop/ptthth/client.ipynb#X10sZmlsZQ%3D%3D?line=42'>43</a>\u001b[0m     main()\n",
      "\u001b[1;32md:\\HK1-2023-2024\\phat trien he thong tich hop\\ptthth\\client.ipynb Cell 2\u001b[0m line \u001b[0;36m1\n\u001b[0;32m     <a href='vscode-notebook-cell:/d%3A/HK1-2023-2024/phat%20trien%20he%20thong%20tich%20hop/ptthth/client.ipynb#X10sZmlsZQ%3D%3D?line=14'>15</a>\u001b[0m choice \u001b[39m=\u001b[39m \u001b[39minput\u001b[39m(\u001b[39m\"\u001b[39m\u001b[39mChọn dịch vụ (1/2/3): \u001b[39m\u001b[39m\"\u001b[39m)\n\u001b[0;32m     <a href='vscode-notebook-cell:/d%3A/HK1-2023-2024/phat%20trien%20he%20thong%20tich%20hop/ptthth/client.ipynb#X10sZmlsZQ%3D%3D?line=16'>17</a>\u001b[0m \u001b[39mif\u001b[39;00m choice \u001b[39m==\u001b[39m \u001b[39m\"\u001b[39m\u001b[39m1\u001b[39m\u001b[39m\"\u001b[39m \u001b[39mor\u001b[39;00m choice \u001b[39m==\u001b[39m \u001b[39m\"\u001b[39m\u001b[39m2\u001b[39m\u001b[39m\"\u001b[39m \u001b[39mor\u001b[39;00m choice \u001b[39m==\u001b[39m \u001b[39m\"\u001b[39m\u001b[39m3\u001b[39m\u001b[39m\"\u001b[39m:\n\u001b[1;32m---> <a href='vscode-notebook-cell:/d%3A/HK1-2023-2024/phat%20trien%20he%20thong%20tich%20hop/ptthth/client.ipynb#X10sZmlsZQ%3D%3D?line=17'>18</a>\u001b[0m     client\u001b[39m.\u001b[39;49msend(choice\u001b[39m.\u001b[39;49mencode())\n\u001b[0;32m     <a href='vscode-notebook-cell:/d%3A/HK1-2023-2024/phat%20trien%20he%20thong%20tich%20hop/ptthth/client.ipynb#X10sZmlsZQ%3D%3D?line=19'>20</a>\u001b[0m     \u001b[39mif\u001b[39;00m choice \u001b[39m==\u001b[39m \u001b[39m\"\u001b[39m\u001b[39m3\u001b[39m\u001b[39m\"\u001b[39m:\n\u001b[0;32m     <a href='vscode-notebook-cell:/d%3A/HK1-2023-2024/phat%20trien%20he%20thong%20tich%20hop/ptthth/client.ipynb#X10sZmlsZQ%3D%3D?line=20'>21</a>\u001b[0m         client\u001b[39m.\u001b[39mclose()\n",
      "\u001b[1;31mOSError\u001b[0m: [WinError 10038] An operation was attempted on something that is not a socket"
     ]
    }
   ],
   "source": [
    "import socket\n",
    "\n",
    "def main():\n",
    "    server_ip = \"127.0.0.1\"  # Địa chỉ IP của server\n",
    "    server_port = 8890       # Cổng của server\n",
    "\n",
    "    client = socket.socket(socket.AF_INET, socket.SOCK_STREAM)\n",
    "    client.connect((server_ip, server_port))\n",
    "\n",
    "    while True:\n",
    "        print(\"Danh sách dịch vụ:\")\n",
    "        print(\"1. Đảo ngược chuỗi đồng thời in hoa ký tự đầu của mỗi từ\")\n",
    "        print(\"2. Tính tổng chuỗi các số nguyên (khoảng trắng)\")\n",
    "        print(\"3. Thoát\")\n",
    "        choice = input(\"Chọn dịch vụ (1/2/3): \")\n",
    "\n",
    "        if choice == \"1\" or choice == \"2\" or choice == \"3\":\n",
    "            client.send(choice.encode())\n",
    "\n",
    "            if choice == \"3\":\n",
    "                client.close()\n",
    "                break\n",
    "            \n",
    "            response = client.recv(1024).decode()\n",
    "            print(response)\n",
    "            \n",
    "            if choice == \"1\":\n",
    "                data = input(\"Nhập dữ liệu: \")\n",
    "                client.send(data.encode())\n",
    "                result = client.recv(1024).decode()\n",
    "                print(result)\n",
    "                client.close()\n",
    "            elif choice == \"2\":\n",
    "                data = input(\"Nhập chuỗi số nguyên (cách nhau bởi khoảng trắng): \")\n",
    "                client.send(data.encode())\n",
    "                result = client.recv(1024).decode()\n",
    "                print(result)\n",
    "                client.close()\n",
    "        else:\n",
    "            print(\"Lựa chọn không hợp lệ. Vui lòng chọn lại.\")\n",
    "\n",
    "if __name__ == \"__main__\":\n",
    "    main()"
   ]
  }
 ],
 "metadata": {
  "kernelspec": {
   "display_name": "Python 3",
   "language": "python",
   "name": "python3"
  },
  "language_info": {
   "codemirror_mode": {
    "name": "ipython",
    "version": 3
   },
   "file_extension": ".py",
   "mimetype": "text/x-python",
   "name": "python",
   "nbconvert_exporter": "python",
   "pygments_lexer": "ipython3",
   "version": "3.10.11"
  },
  "orig_nbformat": 4
 },
 "nbformat": 4,
 "nbformat_minor": 2
}
