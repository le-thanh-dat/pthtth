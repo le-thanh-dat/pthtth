{
 "cells": [
  {
   "cell_type": "markdown",
   "metadata": {},
   "source": [
    "Client: \n",
    "\n",
    "Kết nối tới server qua địa chỉ IP và port được cung cấp \n",
    "\n",
    "Client chọn dịch vụ. \n",
    "\n",
    "Dịch vụ 1: Client nhập chuỗi. Hiển thị kết quả đảo ngược và in hoa ký tự đầu. \n",
    "\n",
    "Dịch vụ 2: Client nhập chuỗi các số nguyên. Hiển thị kết quả tính tổng các số nguyên. \n",
    "\n",
    "Kiểm tra ngắt kết nối."
   ]
  },
  {
   "cell_type": "code",
   "execution_count": 3,
   "metadata": {},
   "outputs": [
    {
     "name": "stdout",
     "output_type": "stream",
     "text": [
      "Danh sách dịch vụ:\n",
      "1. Tính tổng chuỗi trong file data.txt\n",
      "2. Tính tổng chuỗi các số nguyên (khoảng trắng)\n",
      "3. Thoát\n",
      "Nhập chuỗi số nguyên: \n",
      "15\n",
      "Danh sách dịch vụ:\n",
      "1. Tính tổng chuỗi trong file data.txt\n",
      "2. Tính tổng chuỗi các số nguyên (khoảng trắng)\n",
      "3. Thoát\n",
      "tong cac chuoi chuỗi: \n",
      "15\n",
      "45\n",
      "5\n",
      "Danh sách dịch vụ:\n",
      "1. Tính tổng chuỗi trong file data.txt\n",
      "2. Tính tổng chuỗi các số nguyên (khoảng trắng)\n",
      "3. Thoát\n",
      "tong cac chuoi chuỗi: \n",
      "15\n",
      "45\n",
      "5\n",
      "Danh sách dịch vụ:\n",
      "1. Tính tổng chuỗi trong file data.txt\n",
      "2. Tính tổng chuỗi các số nguyên (khoảng trắng)\n",
      "3. Thoát\n"
     ]
    }
   ],
   "source": [
    "import socket\n",
    "\n",
    "def main():\n",
    "    server_ip = \"127.0.0.1\"  # Địa chỉ IP của server\n",
    "    server_port = 8890       # Cổng của server\n",
    "\n",
    "    client = socket.socket(socket.AF_INET, socket.SOCK_STREAM)\n",
    "    client.connect((server_ip, server_port))\n",
    "\n",
    "    while True:\n",
    "        print(\"Danh sách dịch vụ:\")\n",
    "        print(\"1. Tính tổng chuỗi trong file data.txt\")\n",
    "        print(\"2. Tính tổng chuỗi các số nguyên (khoảng trắng)\")\n",
    "        print(\"3. Thoát\")\n",
    "        choice = input(\"Chọn dịch vụ (1/2/3): \")\n",
    "\n",
    "        if choice == \"1\" or choice == \"2\" or choice == \"3\":\n",
    "            client.send(choice.encode())\n",
    "\n",
    "            if choice == \"3\":\n",
    "                client.close()\n",
    "                break\n",
    "            \n",
    "            response = client.recv(1024).decode()\n",
    "            print(response)\n",
    "            \n",
    "            if choice == \"1\":\n",
    "                with open('data.txt', 'r') as file:\n",
    "                    data = file.read()\n",
    "                client.send(data.encode())\n",
    "                result = client.recv(1024).decode()\n",
    "                print(result)\n",
    "                \n",
    "            elif choice == \"2\":\n",
    "                data = input(\"Nhập chuỗi số nguyên (cách nhau bởi khoảng trắng): \")\n",
    "                client.send(data.encode())\n",
    "                result = client.recv(1024).decode()\n",
    "                print(result)\n",
    "                \n",
    "        else:\n",
    "            print(\"Lựa chọn không hợp lệ. Vui lòng chọn lại.\")\n",
    "\n",
    "if __name__ == \"__main__\":\n",
    "    main()\n"
   ]
  }
 ],
 "metadata": {
  "kernelspec": {
   "display_name": "Python 3",
   "language": "python",
   "name": "python3"
  },
  "language_info": {
   "codemirror_mode": {
    "name": "ipython",
    "version": 3
   },
   "file_extension": ".py",
   "mimetype": "text/x-python",
   "name": "python",
   "nbconvert_exporter": "python",
   "pygments_lexer": "ipython3",
   "version": "3.10.11"
  },
  "orig_nbformat": 4
 },
 "nbformat": 4,
 "nbformat_minor": 2
}
