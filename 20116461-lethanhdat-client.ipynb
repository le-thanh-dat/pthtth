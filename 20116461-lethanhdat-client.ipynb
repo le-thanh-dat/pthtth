{
 "cells": [
  {
   "cell_type": "markdown",
   "metadata": {},
   "source": [
    "Client: \n",
    "\n",
    "Kết nối tới server qua địa chỉ IP và port được cung cấp \n",
    "\n",
    "Client chọn dịch vụ. \n",
    "\n",
    "Dịch vụ 1: Client nhập chuỗi. Hiển thị kết quả đảo ngược và in hoa ký tự đầu. \n",
    "\n",
    "Dịch vụ 2: Client nhập chuỗi các số nguyên. Hiển thị kết quả tính tổng các số nguyên. \n",
    "\n",
    "Kiểm tra ngắt kết nối."
   ]
  },
  {
   "cell_type": "code",
   "execution_count": 6,
   "metadata": {},
   "outputs": [
    {
     "name": "stdout",
     "output_type": "stream",
     "text": [
      "tổng = 33\n",
      "tổng = 24\n"
     ]
    }
   ],
   "source": [
    "import socket\n",
    "\n",
    "\n",
    "server_ip = \"127.0.0.1\"  # Địa chỉ IP của server\n",
    "server_port = 8890       # Cổng của server\n",
    "\n",
    "client = socket.socket(socket.AF_INET, socket.SOCK_STREAM)\n",
    "client.connect((server_ip, server_port))\n",
    "\n",
    "while True:\n",
    "\n",
    "\n",
    "    data1 = input(\"Nhập chuỗi số nguyên (cách nhau bởi khoảng trắng): \")\n",
    "    data_to_write = \"12345\"\n",
    "\n",
    "    # Mở tệp \"data.txt\" và ghi dữ liệu vào tệp\n",
    "    with open(\"data.txt\", \"w\") as file:\n",
    "        file.write(data1)\n",
    "    # Mở tệp \"data.txt\" và đọc nội dung từ tệp\n",
    "    with open(\"data.txt\", \"r\") as file:\n",
    "        data = file.read()\n",
    "    \n",
    "    if data == '.':\n",
    "        break\n",
    "\n",
    "    client.send(data.encode())\n",
    "    result = client.recv(1024).decode()\n",
    "    print(f\"tổng = {result}\")\n"
   ]
  }
 ],
 "metadata": {
  "kernelspec": {
   "display_name": "Python 3",
   "language": "python",
   "name": "python3"
  },
  "language_info": {
   "codemirror_mode": {
    "name": "ipython",
    "version": 3
   },
   "file_extension": ".py",
   "mimetype": "text/x-python",
   "name": "python",
   "nbconvert_exporter": "python",
   "pygments_lexer": "ipython3",
   "version": "3.10.11"
  },
  "orig_nbformat": 4
 },
 "nbformat": 4,
 "nbformat_minor": 2
}
