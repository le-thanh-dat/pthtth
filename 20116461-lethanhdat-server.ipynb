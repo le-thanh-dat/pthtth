{
 "cells": [
  {
   "cell_type": "markdown",
   "metadata": {},
   "source": [
    "Server: \n",
    "\n",
    "Cung cấp danh sách các dịch vụ: \n",
    "\n",
    "Đảo ngược chuỗi đồng thời in hoa ký tự đầu của mỗi từ \n",
    "\n",
    "Tính tổng chuỗi các số nguyên (Client nhập chuỗi các số nguyên) \n",
    "\n",
    "Thoát \n",
    "\n",
    "Server có thể xử lý đồng thời yêu cầu từ nhiều client. \n",
    "\n",
    "Tính tổng các số nguyên (Client nhập chuỗi các số nguyên, cách nhau bởi khoảng trắng)"
   ]
  },
  {
   "cell_type": "code",
   "execution_count": 1,
   "metadata": {},
   "outputs": [
    {
     "name": "stdout",
     "output_type": "stream",
     "text": [
      "Server đang lắng nghe...\n",
      "Kết nối từ 127.0.0.1:53085\n"
     ]
    }
   ],
   "source": [
    "import socket\n",
    "\n",
    "\n",
    "def calculate_sum(data):\n",
    "    numbers = [int(num) for num in data.split()]\n",
    "    result = sum(numbers)\n",
    "    return str(result)\n",
    "\n",
    "def main():\n",
    "    server_ip = \"127.0.0.1\"  # Địa chỉ IP của server\n",
    "    server_port = 8890       # Cổng của server\n",
    "\n",
    "    server = socket.socket(socket.AF_INET, socket.SOCK_STREAM)\n",
    "    server.bind((server_ip, server_port))\n",
    "    server.listen(5)\n",
    "    print(\"Server đang lắng nghe...\")\n",
    "\n",
    "    while True:\n",
    "        client_socket, addr = server.accept()\n",
    "        print(f\"Kết nối từ {addr[0]}:{addr[1]}\")\n",
    "        while True:\n",
    "            \n",
    "\n",
    "            \n",
    "                \n",
    "                data = client_socket.recv(1024).decode()\n",
    "                result = calculate_sum(data)\n",
    "                client_socket.send(result.encode())\n",
    "            \n",
    "            \n",
    "if __name__ == \"__main__\":\n",
    "    main()"
   ]
  }
 ],
 "metadata": {
  "kernelspec": {
   "display_name": "Python 3",
   "language": "python",
   "name": "python3"
  },
  "language_info": {
   "codemirror_mode": {
    "name": "ipython",
    "version": 3
   },
   "file_extension": ".py",
   "mimetype": "text/x-python",
   "name": "python",
   "nbconvert_exporter": "python",
   "pygments_lexer": "ipython3",
   "version": "3.10.11"
  },
  "orig_nbformat": 4
 },
 "nbformat": 4,
 "nbformat_minor": 2
}
