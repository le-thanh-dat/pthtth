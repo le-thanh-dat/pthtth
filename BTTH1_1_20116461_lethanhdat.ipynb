{
 "cells": [
  {
   "cell_type": "markdown",
   "metadata": {},
   "source": [
    "# Họ và tên: lê thành đạt\n",
    "# MSSV:20116461\n",
    "# Lớp học phần - Nhóm TH:1"
   ]
  },
  {
   "cell_type": "markdown",
   "metadata": {},
   "source": [
    "# 1. Hello world!"
   ]
  },
  {
   "cell_type": "code",
   "execution_count": 15,
   "metadata": {},
   "outputs": [
    {
     "name": "stdout",
     "output_type": "stream",
     "text": [
      "hello world\n"
     ]
    }
   ],
   "source": [
    "print('hello world')"
   ]
  },
  {
   "cell_type": "markdown",
   "metadata": {},
   "source": [
    "# 2. Program to Add Two Numbers"
   ]
  },
  {
   "cell_type": "markdown",
   "metadata": {},
   "source": [
    "## Add Two Numbers"
   ]
  },
  {
   "cell_type": "code",
   "execution_count": 16,
   "metadata": {},
   "outputs": [
    {
     "name": "stdout",
     "output_type": "stream",
     "text": [
      "7.8\n"
     ]
    }
   ],
   "source": [
    "num1 = 1.5\n",
    "num2 = 6.3\n",
    "\n",
    "### START CODE HERE ### \n",
    "# Add two numbers\n",
    "\n",
    "sum = num1 + num2\n",
    "\n",
    "# Display the sum\n",
    "print(sum)"
   ]
  },
  {
   "cell_type": "markdown",
   "metadata": {},
   "source": [
    "##  Add Two Numbers With User Input"
   ]
  },
  {
   "cell_type": "code",
   "execution_count": 36,
   "metadata": {},
   "outputs": [
    {
     "name": "stdout",
     "output_type": "stream",
     "text": [
      "8\n"
     ]
    }
   ],
   "source": [
    "# Store input numbers\n",
    "num1 = int(input(\"nhap so thu nhat\"))\n",
    "num2 = int(input(\"nhap so thu hai\"))\n",
    "### START CODE HERE ### \n",
    "\n",
    "# Add two numbers\n",
    "sum = num1 + num2\n",
    "\n",
    "### END CODE HERE ###\n",
    "\n",
    "# Display the sum\n",
    "print(sum)"
   ]
  },
  {
   "cell_type": "markdown",
   "metadata": {},
   "source": [
    "# 3. Program to Find the Square Root"
   ]
  },
  {
   "cell_type": "code",
   "execution_count": null,
   "metadata": {},
   "outputs": [
    {
     "name": "stdout",
     "output_type": "stream",
     "text": [
      "2.8284271247461903\n"
     ]
    }
   ],
   "source": [
    "# Python Program to calculate the square root\n",
    "import math\n",
    "# Note: change this value for a different result\n",
    "num = 8 \n",
    "\n",
    "# To take the input from the user\n",
    "#num = float(input('Enter a number: '))\n",
    "\n",
    "# calculate the square root \n",
    "sum = math.sqrt(num)\n",
    "\n",
    "# print the value of the square root\n",
    "print(sum)\n"
   ]
  },
  {
   "cell_type": "markdown",
   "metadata": {},
   "source": [
    "# 4. Program to Calculate the Area of a Triangle\n",
    "s = (a+b+c)/2\n",
    "\n",
    "area = √(s(s-a)*(s-b)*(s-c))"
   ]
  },
  {
   "cell_type": "code",
   "execution_count": null,
   "metadata": {},
   "outputs": [
    {
     "name": "stdout",
     "output_type": "stream",
     "text": [
      "The area of the triangle is 9.92\n"
     ]
    }
   ],
   "source": [
    "### START CODE HERE ### \n",
    "\n",
    "# take inputs from the user\n",
    "a = int(input(\"nhap \"))\n",
    "b = int(input(\"nhap \"))\n",
    "c = int(input(\"nhap \"))\n",
    "\n",
    "\n",
    "# calculate the semi-perimeter\n",
    "s = (a+b+c) / 2\n",
    "\n",
    "# calculate the area\n",
    "area = math.sqrt((s*(s-a)*(s-b)*(s-c)))\n",
    "\n",
    "### END CODE HERE ###\n",
    "\n",
    "print('The area of the triangle is %0.2f' %area)"
   ]
  },
  {
   "cell_type": "markdown",
   "metadata": {},
   "source": [
    "# 5. Program to Solve Quadratic Equation\n",
    "ax2 + bx + c = 0, where a, b and c are real numbers and a ≠ 0"
   ]
  },
  {
   "cell_type": "code",
   "execution_count": 19,
   "metadata": {},
   "outputs": [
    {
     "name": "stdout",
     "output_type": "stream",
     "text": [
      "The solution are 2.0 and 0.5\n"
     ]
    }
   ],
   "source": [
    "import cmath\n",
    "\n",
    "### START CODE HERE ### \n",
    "\n",
    "# take inputs from the user\n",
    "\n",
    "a = int(input(\"nhap a\"))\n",
    "b = int(input(\"nhap b\"))\n",
    "c = int(input(\"nhap c\"))\n",
    "\n",
    "# calculate the discriminant\n",
    "d = math.pow(b,2) - (4*a*c)\n",
    "\n",
    "# find two solutions using square root for real/complex number\n",
    "sol1 = (-b + math.sqrt(d)) / (2*a)\n",
    "sol2 = (-b - math.sqrt(d)) / (2*a)\n",
    "### END CODE HERE ###\n",
    "\n",
    "print('The solution are {0} and {1}'.format(sol1,sol2))"
   ]
  },
  {
   "cell_type": "markdown",
   "metadata": {},
   "source": [
    "# 6. Program to Swap Two Variables"
   ]
  },
  {
   "cell_type": "code",
   "execution_count": 20,
   "metadata": {},
   "outputs": [
    {
     "name": "stdout",
     "output_type": "stream",
     "text": [
      "Swapped values: num1 = 6.0, num2 = 4.0\n"
     ]
    }
   ],
   "source": [
    "# To take inputs from the user\n",
    "num1 = float(input(\"Enter the first number: \"))\n",
    "num2 = float(input(\"Enter the second number: \"))\n",
    "\n",
    "# create a temporary variable and swap the values\n",
    "temp = num1\n",
    "num1 = num2\n",
    "num2 = temp\n",
    "# Print the c=value of x, y after swapping\n",
    "print(f\"Swapped values: num1 = {num1}, num2 = {num2}\")\n"
   ]
  },
  {
   "cell_type": "code",
   "execution_count": 21,
   "metadata": {},
   "outputs": [
    {
     "name": "stdout",
     "output_type": "stream",
     "text": [
      "Memory address of x: 3035668022800\n",
      "Memory address of y: 3035738842160\n",
      "Memory address of temp: 3035757350592\n"
     ]
    }
   ],
   "source": [
    "### START CODE HERE ### \n",
    "# writing code to get the address (in RAM) of x, y, temp through the built-in function id()\n",
    "x = 42\n",
    "y = \"Hello, World!\"\n",
    "temp = [1, 2, 3]\n",
    "### END CODE HERE ###\n",
    "print(\"Memory address of x:\", id(x))\n",
    "print(\"Memory address of y:\", id(y))\n",
    "print(\"Memory address of temp:\", id(temp))"
   ]
  },
  {
   "cell_type": "markdown",
   "metadata": {},
   "source": [
    "# 7. Program to Generate a Random Number\n",
    "https://docs.python.org/3/library/random.html"
   ]
  },
  {
   "cell_type": "code",
   "execution_count": 29,
   "metadata": {},
   "outputs": [
    {
     "name": "stdout",
     "output_type": "stream",
     "text": [
      "7\n"
     ]
    }
   ],
   "source": [
    "# Program to generate a random number between 0 and 9\n",
    "\n",
    "# importing the random module\n",
    "import random\n",
    "\n",
    "print(random.randint(0,9))\n",
    "\n",
    "# Uncomment to try different function in random module\n",
    "# print(random.randrange(9))\n",
    "# print(random.randrange(3,9))\n",
    "# print(random.random())\n",
    "# print(random.uniform(a,b))"
   ]
  },
  {
   "cell_type": "markdown",
   "metadata": {},
   "source": [
    "# 8. Program to Convert Kilometers to Miles\n",
    "1 km = (1/1.609344) mi = 0.62137119 mi"
   ]
  },
  {
   "cell_type": "code",
   "execution_count": 32,
   "metadata": {},
   "outputs": [
    {
     "name": "stdout",
     "output_type": "stream",
     "text": [
      "6.00 kilometers is equal to 3.73 miles\n"
     ]
    }
   ],
   "source": [
    "# Taking kilometers input from the user\n",
    "kilometers = float(input(\"Enter value in kilometers: \"))\n",
    "\n",
    "# conversion factor\n",
    "conv_fac = 0.621371\n",
    "\n",
    "# calculate miles\n",
    "miles = kilometers * conv_fac\n",
    "print('%0.2f kilometers is equal to %0.2f miles' %(kilometers,miles))"
   ]
  },
  {
   "cell_type": "code",
   "execution_count": 33,
   "metadata": {},
   "outputs": [
    {
     "name": "stdout",
     "output_type": "stream",
     "text": [
      "3.73 kilometers is equal to 6.00 miles\n"
     ]
    }
   ],
   "source": [
    "### START CODE HERE ### \n",
    "# writing code to convert miles to kilometers\n",
    "miles = float(input(\"Enter value miles: \"))\n",
    "conv_fac = 0.621371\n",
    "kilometers = miles / conv_fac\n",
    "print('%0.2f miles is equal to %0.2f kilometer' %(miles,kilometers))\n",
    "### END CODE HERE ###"
   ]
  },
  {
   "cell_type": "markdown",
   "metadata": {},
   "source": [
    "# 9. Program to Convert Celsius To Fahrenheit\n",
    "T(°F) = T(°C) × 1.8 + 32"
   ]
  },
  {
   "cell_type": "code",
   "execution_count": 35,
   "metadata": {},
   "outputs": [
    {
     "name": "stdout",
     "output_type": "stream",
     "text": [
      "8 C = 41.0 F\n"
     ]
    }
   ],
   "source": [
    "### START CODE HERE ### \n",
    "# Taking celsius input from the user\n",
    "num1 = float(input(\"nhiet do\"))\n",
    "\n",
    "# conversion factor\n",
    "factor = 1.8\n",
    "\n",
    "# calculate Fahrenheit\n",
    "fahrenheit = (num1 * factor) + 32\n",
    "\n",
    "# print result\n",
    "print(f\"{num} C = {fahrenheit} F\")\n",
    "### END CODE HERE ###"
   ]
  }
 ],
 "metadata": {
  "kernelspec": {
   "display_name": "Python 3",
   "language": "python",
   "name": "python3"
  },
  "language_info": {
   "codemirror_mode": {
    "name": "ipython",
    "version": 3
   },
   "file_extension": ".py",
   "mimetype": "text/x-python",
   "name": "python",
   "nbconvert_exporter": "python",
   "pygments_lexer": "ipython3",
   "version": "3.10.11"
  }
 },
 "nbformat": 4,
 "nbformat_minor": 2
}
